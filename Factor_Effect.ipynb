{
 "cells": [
  {
   "cell_type": "code",
   "execution_count": 134,
   "metadata": {},
   "outputs": [],
   "source": [
    "# Author:Ning Pei Ding\n",
    "# Date: 02/10/2020\n",
    "import pandas as pd\n",
    "import numpy as np\n",
    "import scipy.io\n",
    "import statsmodels.api as sm"
   ]
  },
  {
   "cell_type": "code",
   "execution_count": null,
   "metadata": {},
   "outputs": [],
   "source": [
    "# ?pip install statsmodels"
   ]
  },
  {
   "cell_type": "code",
   "execution_count": 135,
   "metadata": {},
   "outputs": [
    {
     "name": "stderr",
     "output_type": "stream",
     "text": [
      "/Users/ningpeiding/anaconda3/lib/python3.6/site-packages/scipy/io/matlab/mio.py:142: MatReadWarning: Duplicate variable name \"None\" in stream - replacing previous with new\n",
      "Consider mio5.varmats_from_mat to split file into single variable files\n",
      "  matfile_dict = MR.get_variables(variable_names)\n"
     ]
    }
   ],
   "source": [
    "mat = scipy.io.loadmat('china.mat')"
   ]
  },
  {
   "cell_type": "code",
   "execution_count": 136,
   "metadata": {},
   "outputs": [],
   "source": [
    "mret = np.array(mat['china_monthly_ri'])\n",
    "market = np.array(mat['china_monthly_mv'])\n",
    "rankrt = np.stack([(mret[:,i] - mret[:,i-1])/mret[:,i-1] for i in range(1,mret.shape[1])], axis = -1)\n",
    "mk = np.stack([market[:,i] for i in range(1,mret.shape[1])], axis = -1)\n",
    "momentum = np.stack([np.prod(rankrt[:,i-11:i] + 1,axis = 1) -1 for i in range(11,rankrt.shape[1])], axis = -1)\n",
    "momentum= np.concatenate((np.zeros([momentum.shape[0],11]), momentum), axis=1)"
   ]
  },
  {
   "cell_type": "code",
   "execution_count": 137,
   "metadata": {},
   "outputs": [],
   "source": [
    "rf = pd.read_csv('F-F_Research_Data_Factors.CSV')\n",
    "rf = rf[rf['Time'] >= mat['mdates'][0][0]]['RF']"
   ]
  },
  {
   "cell_type": "code",
   "execution_count": 138,
   "metadata": {},
   "outputs": [],
   "source": [
    "\n",
    "def percentage(per, data):\n",
    "    res = []\n",
    "    for i in per:\n",
    "        res.append(np.percentile(data,i))\n",
    "    return res   "
   ]
  },
  {
   "cell_type": "code",
   "execution_count": 139,
   "metadata": {},
   "outputs": [],
   "source": [
    "def calresult(rankrt, mk, order, percent, rf, start, end, size = 'Full'):\n",
    "    mtr_mean = []\n",
    "    vr_mean = []\n",
    "    ewret = []\n",
    "    vmret = []\n",
    "    risk_f = []\n",
    "    percent = percent\n",
    "    for i in range(start, end,1):\n",
    "        rankrt_curr1 = rankrt[(~np.isnan(rankrt[:,i]))&(~np.isnan(rankrt[:,i-1]))&(~np.isnan(mk[:,i-1]))&(~np.isnan(order[:,i-1])),i-1]\n",
    "        rankmk1 = mk[(~np.isnan(rankrt[:,i]))&(~np.isnan(rankrt[:,i-1]))&(~np.isnan(mk[:,i-1]))&(~np.isnan(order[:,i-1])),i-1]\n",
    "        rankrt_next1 = rankrt[(~np.isnan(rankrt[:,i]))&(~np.isnan(rankrt[:,i-1]))&(~np.isnan(mk[:,i-1]))&(~np.isnan(order[:,i-1])),i]\n",
    "        rankorder1 =  order[(~np.isnan(rankrt[:,i]))&(~np.isnan(rankrt[:,i-1]))&(~np.isnan(mk[:,i-1]))&(~np.isnan(order[:,i-1])),i-1]\n",
    "        if len(rankrt_curr1) == 0 | len(rankorder1) == 0:\n",
    "            continue\n",
    "        if size == 'Full':\n",
    "            rankrt_curr = rankrt_curr1\n",
    "            rankmk = rankmk1\n",
    "            rankrt_next = rankrt_next1\n",
    "            rankorder = rankorder1\n",
    "        if size == 'Big':\n",
    "            rankrt_curr = rankrt_curr1[rankmk1 >= np.nanmedian(rankmk1)]\n",
    "            rankmk = rankmk1[rankmk1 >= np.nanmedian(rankmk1)]\n",
    "            rankrt_next = rankrt_next1[rankmk1 >= np.nanmedian(rankmk1)]\n",
    "            rankorder = rankorder1[rankmk1 >= np.nanmedian(rankmk1)]\n",
    "        if size == 'Small':\n",
    "            rankrt_curr = rankrt_curr1[rankmk1 < np.nanmedian(rankmk1)]\n",
    "            rankmk = rankmk1[rankmk1 < np.nanmedian(rankmk1)]\n",
    "            rankrt_next = rankrt_next1[rankmk1 < np.nanmedian(rankmk1)]\n",
    "            rankorder = rankorder1[rankmk1 < np.nanmedian(rankmk1)]\n",
    "        bound = percentage(percent, rankorder) \n",
    "        mmean = []\n",
    "        vr=[]\n",
    "        mmean.append(np.mean(rankrt_next[rankorder <= bound[0]]))\n",
    "        vr.append(np.dot(rankrt_next[rankorder <= bound[0]].T , (rankmk[rankorder <= bound[0]]/np.nansum(rankmk))))\n",
    "        ewret.append(np.mean(rankrt_next))\n",
    "        vmret.append(np.dot(rankrt_next.T, rankmk/np.nansum(rankmk)))\n",
    "        risk_f.append(rf.iloc[i])\n",
    "        if len(bound) > 1:\n",
    "            for j in range(1,len(bound)):\n",
    "                mmean.append(np.mean(rankrt_next[(rankorder > bound[j-1]) & (rankorder < bound[j])]))\n",
    "                vr.append(np.dot(rankrt_next[(rankorder > bound[j-1]) & (rankorder < bound[j])].T, (rankmk[(rankorder > bound[j-1]) & (rankorder < bound[j])]/np.nansum(rankmk))))\n",
    "            mmean.append(np.mean(rankrt_next[rankorder > bound[-1]]))\n",
    "            vr.append(np.dot(rankrt_next[rankorder > bound[-1]].T, (rankmk[rankorder > bound[-1]]/np.nansum(rankmk))))\n",
    "        mtr_mean.append(mmean)\n",
    "        vr_mean.append(vr)\n",
    "    mtr_mean = np.array(mtr_mean)\n",
    "    vr_mean = np.array(vr_mean)\n",
    "    diff1 = mtr_mean[:,-1] - mtr_mean[:,0]\n",
    "    diff2 = vr_mean[:,-1] - vr_mean[:,0]\n",
    "    return ewret, vmret, mtr_mean, vr_mean, diff1, diff2, risk_f"
   ]
  },
  {
   "cell_type": "code",
   "execution_count": 140,
   "metadata": {},
   "outputs": [],
   "source": [
    "nc = rankrt.shape[1]\n",
    "nr = rankrt.shape[0]\n",
    "result = calresult(rankrt,mk,momentum, [20, 40, 60, 80], rf, 87, rankrt.shape[1])"
   ]
  },
  {
   "cell_type": "code",
   "execution_count": 141,
   "metadata": {},
   "outputs": [],
   "source": [
    "r_minus_rf = np.array([result[2][:,i] - np.array(result[-1])/100 for i in range(result[2].shape[1])])\n",
    "weightr_minus_rf = np.array([result[3][:,i] - np.array(result[-1])/100 for i in range(result[3].shape[1])])"
   ]
  },
  {
   "cell_type": "code",
   "execution_count": 142,
   "metadata": {},
   "outputs": [],
   "source": [
    "Rm_minus_Rf = np.array(result[0]) - np.array(result[-1])/100"
   ]
  },
  {
   "cell_type": "code",
   "execution_count": 144,
   "metadata": {},
   "outputs": [],
   "source": [
    "Weightrm_minus_rf = np.array(result[1]) - np.array(result[-1])/100\n"
   ]
  },
  {
   "cell_type": "markdown",
   "metadata": {},
   "source": [
    "# Normal Mean Regression Summary"
   ]
  },
  {
   "cell_type": "code",
   "execution_count": 145,
   "metadata": {},
   "outputs": [
    {
     "name": "stdout",
     "output_type": "stream",
     "text": [
      "Part:  0\n",
      "                            OLS Regression Results                            \n",
      "==============================================================================\n",
      "Dep. Variable:                      y   R-squared:                       0.941\n",
      "Model:                            OLS   Adj. R-squared:                  0.941\n",
      "Method:                 Least Squares   F-statistic:                     4718.\n",
      "Date:                Mon, 10 Feb 2020   Prob (F-statistic):          1.62e-183\n",
      "Time:                        23:26:09   Log-Likelihood:                 681.34\n",
      "No. Observations:                 297   AIC:                            -1359.\n",
      "Df Residuals:                     295   BIC:                            -1351.\n",
      "Df Model:                           1                                         \n",
      "Covariance Type:            nonrobust                                         \n",
      "==============================================================================\n",
      "                 coef    std err          t      P>|t|      [0.025      0.975]\n",
      "------------------------------------------------------------------------------\n",
      "const          0.0002      0.001      0.159      0.874      -0.003       0.003\n",
      "x1             1.0141      0.015     68.691      0.000       0.985       1.043\n",
      "==============================================================================\n",
      "Omnibus:                       25.121   Durbin-Watson:                   1.760\n",
      "Prob(Omnibus):                  0.000   Jarque-Bera (JB):               84.673\n",
      "Skew:                          -0.229   Prob(JB):                     4.11e-19\n",
      "Kurtosis:                       5.575   Cond. No.                         10.4\n",
      "==============================================================================\n",
      "\n",
      "Warnings:\n",
      "[1] Standard Errors assume that the covariance matrix of the errors is correctly specified.\n",
      "-------------------------------------------------------------------\n",
      "\n",
      "Part:  1\n",
      "                            OLS Regression Results                            \n",
      "==============================================================================\n",
      "Dep. Variable:                      y   R-squared:                       0.978\n",
      "Model:                            OLS   Adj. R-squared:                  0.978\n",
      "Method:                 Least Squares   F-statistic:                 1.303e+04\n",
      "Date:                Mon, 10 Feb 2020   Prob (F-statistic):          3.63e-246\n",
      "Time:                        23:26:09   Log-Likelihood:                 831.46\n",
      "No. Observations:                 297   AIC:                            -1659.\n",
      "Df Residuals:                     295   BIC:                            -1652.\n",
      "Df Model:                           1                                         \n",
      "Covariance Type:            nonrobust                                         \n",
      "==============================================================================\n",
      "                 coef    std err          t      P>|t|      [0.025      0.975]\n",
      "------------------------------------------------------------------------------\n",
      "const          0.0004      0.001      0.432      0.666      -0.001       0.002\n",
      "x1             1.0167      0.009    114.169      0.000       0.999       1.034\n",
      "==============================================================================\n",
      "Omnibus:                       23.401   Durbin-Watson:                   1.995\n",
      "Prob(Omnibus):                  0.000   Jarque-Bera (JB):               88.451\n",
      "Skew:                          -0.044   Prob(JB):                     6.21e-20\n",
      "Kurtosis:                       5.672   Cond. No.                         10.4\n",
      "==============================================================================\n",
      "\n",
      "Warnings:\n",
      "[1] Standard Errors assume that the covariance matrix of the errors is correctly specified.\n",
      "-------------------------------------------------------------------\n",
      "\n",
      "Part:  2\n",
      "                            OLS Regression Results                            \n",
      "==============================================================================\n",
      "Dep. Variable:                      y   R-squared:                       0.986\n",
      "Model:                            OLS   Adj. R-squared:                  0.986\n",
      "Method:                 Least Squares   F-statistic:                 2.056e+04\n",
      "Date:                Mon, 10 Feb 2020   Prob (F-statistic):          7.89e-275\n",
      "Time:                        23:26:09   Log-Likelihood:                 897.55\n",
      "No. Observations:                 297   AIC:                            -1791.\n",
      "Df Residuals:                     295   BIC:                            -1784.\n",
      "Df Model:                           1                                         \n",
      "Covariance Type:            nonrobust                                         \n",
      "==============================================================================\n",
      "                 coef    std err          t      P>|t|      [0.025      0.975]\n",
      "------------------------------------------------------------------------------\n",
      "const          0.0022      0.001      3.149      0.002       0.001       0.004\n",
      "x1             1.0221      0.007    143.374      0.000       1.008       1.036\n",
      "==============================================================================\n",
      "Omnibus:                      302.639   Durbin-Watson:                   1.944\n",
      "Prob(Omnibus):                  0.000   Jarque-Bera (JB):            19835.354\n",
      "Skew:                           3.952   Prob(JB):                         0.00\n",
      "Kurtosis:                      42.248   Cond. No.                         10.4\n",
      "==============================================================================\n",
      "\n",
      "Warnings:\n",
      "[1] Standard Errors assume that the covariance matrix of the errors is correctly specified.\n",
      "-------------------------------------------------------------------\n",
      "\n",
      "Part:  3\n",
      "                            OLS Regression Results                            \n",
      "==============================================================================\n",
      "Dep. Variable:                      y   R-squared:                       0.980\n",
      "Model:                            OLS   Adj. R-squared:                  0.980\n",
      "Method:                 Least Squares   F-statistic:                 1.419e+04\n",
      "Date:                Mon, 10 Feb 2020   Prob (F-statistic):          1.74e-251\n",
      "Time:                        23:26:09   Log-Likelihood:                 841.22\n",
      "No. Observations:                 297   AIC:                            -1678.\n",
      "Df Residuals:                     295   BIC:                            -1671.\n",
      "Df Model:                           1                                         \n",
      "Covariance Type:            nonrobust                                         \n",
      "==============================================================================\n",
      "                 coef    std err          t      P>|t|      [0.025      0.975]\n",
      "------------------------------------------------------------------------------\n",
      "const         -0.0004      0.001     -0.497      0.620      -0.002       0.001\n",
      "x1             1.0265      0.009    119.115      0.000       1.010       1.043\n",
      "==============================================================================\n",
      "Omnibus:                       49.921   Durbin-Watson:                   1.738\n",
      "Prob(Omnibus):                  0.000   Jarque-Bera (JB):              343.630\n",
      "Skew:                           0.412   Prob(JB):                     2.41e-75\n",
      "Kurtosis:                       8.205   Cond. No.                         10.4\n",
      "==============================================================================\n",
      "\n",
      "Warnings:\n",
      "[1] Standard Errors assume that the covariance matrix of the errors is correctly specified.\n",
      "-------------------------------------------------------------------\n",
      "\n",
      "Part:  4\n",
      "                            OLS Regression Results                            \n",
      "==============================================================================\n",
      "Dep. Variable:                      y   R-squared:                       0.908\n",
      "Model:                            OLS   Adj. R-squared:                  0.907\n",
      "Method:                 Least Squares   F-statistic:                     2901.\n",
      "Date:                Mon, 10 Feb 2020   Prob (F-statistic):          1.14e-154\n",
      "Time:                        23:26:09   Log-Likelihood:                 637.59\n",
      "No. Observations:                 297   AIC:                            -1271.\n",
      "Df Residuals:                     295   BIC:                            -1264.\n",
      "Df Model:                           1                                         \n",
      "Covariance Type:            nonrobust                                         \n",
      "==============================================================================\n",
      "                 coef    std err          t      P>|t|      [0.025      0.975]\n",
      "------------------------------------------------------------------------------\n",
      "const         -0.0024      0.002     -1.435      0.152      -0.006       0.001\n",
      "x1             0.9213      0.017     53.861      0.000       0.888       0.955\n",
      "==============================================================================\n",
      "Omnibus:                       12.034   Durbin-Watson:                   2.064\n",
      "Prob(Omnibus):                  0.002   Jarque-Bera (JB):               26.516\n",
      "Skew:                           0.003   Prob(JB):                     1.75e-06\n",
      "Kurtosis:                       4.464   Cond. No.                         10.4\n",
      "==============================================================================\n",
      "\n",
      "Warnings:\n",
      "[1] Standard Errors assume that the covariance matrix of the errors is correctly specified.\n",
      "-------------------------------------------------------------------\n",
      "\n"
     ]
    }
   ],
   "source": [
    "OLS_m = []\n",
    "for i in range(len(r_minus_rf)):\n",
    "    ewresults = sm.OLS(r_minus_rf[i], sm.add_constant(Rm_minus_Rf)).fit()\n",
    "    OLS_m.append(ewresults)\n",
    "    print('Part: ',str(i))\n",
    "    print(ewresults.summary())\n",
    "    print(\"-------------------------------------------------------------------\\n\")  "
   ]
  },
  {
   "cell_type": "markdown",
   "metadata": {},
   "source": [
    "# The Regression on Difference between Part 1 and Part 5"
   ]
  },
  {
   "cell_type": "code",
   "execution_count": null,
   "metadata": {},
   "outputs": [],
   "source": []
  },
  {
   "cell_type": "code",
   "execution_count": 146,
   "metadata": {},
   "outputs": [],
   "source": [
    "diffres = sm.OLS(result[4], sm.add_constant(Rm_minus_Rf)).fit()"
   ]
  },
  {
   "cell_type": "code",
   "execution_count": 147,
   "metadata": {},
   "outputs": [
    {
     "data": {
      "text/html": [
       "<table class=\"simpletable\">\n",
       "<caption>OLS Regression Results</caption>\n",
       "<tr>\n",
       "  <th>Dep. Variable:</th>            <td>y</td>        <th>  R-squared:         </th> <td>   0.031</td>\n",
       "</tr>\n",
       "<tr>\n",
       "  <th>Model:</th>                   <td>OLS</td>       <th>  Adj. R-squared:    </th> <td>   0.028</td>\n",
       "</tr>\n",
       "<tr>\n",
       "  <th>Method:</th>             <td>Least Squares</td>  <th>  F-statistic:       </th> <td>   9.544</td>\n",
       "</tr>\n",
       "<tr>\n",
       "  <th>Date:</th>             <td>Mon, 10 Feb 2020</td> <th>  Prob (F-statistic):</th>  <td>0.00220</td>\n",
       "</tr>\n",
       "<tr>\n",
       "  <th>Time:</th>                 <td>23:26:13</td>     <th>  Log-Likelihood:    </th> <td>  470.56</td>\n",
       "</tr>\n",
       "<tr>\n",
       "  <th>No. Observations:</th>      <td>   297</td>      <th>  AIC:               </th> <td>  -937.1</td>\n",
       "</tr>\n",
       "<tr>\n",
       "  <th>Df Residuals:</th>          <td>   295</td>      <th>  BIC:               </th> <td>  -929.7</td>\n",
       "</tr>\n",
       "<tr>\n",
       "  <th>Df Model:</th>              <td>     1</td>      <th>                     </th>     <td> </td>   \n",
       "</tr>\n",
       "<tr>\n",
       "  <th>Covariance Type:</th>      <td>nonrobust</td>    <th>                     </th>     <td> </td>   \n",
       "</tr>\n",
       "</table>\n",
       "<table class=\"simpletable\">\n",
       "<tr>\n",
       "    <td></td>       <th>coef</th>     <th>std err</th>      <th>t</th>      <th>P>|t|</th>  <th>[0.025</th>    <th>0.975]</th>  \n",
       "</tr>\n",
       "<tr>\n",
       "  <th>const</th> <td>   -0.0026</td> <td>    0.003</td> <td>   -0.896</td> <td> 0.371</td> <td>   -0.008</td> <td>    0.003</td>\n",
       "</tr>\n",
       "<tr>\n",
       "  <th>x1</th>    <td>   -0.0927</td> <td>    0.030</td> <td>   -3.089</td> <td> 0.002</td> <td>   -0.152</td> <td>   -0.034</td>\n",
       "</tr>\n",
       "</table>\n",
       "<table class=\"simpletable\">\n",
       "<tr>\n",
       "  <th>Omnibus:</th>       <td>11.735</td> <th>  Durbin-Watson:     </th> <td>   1.930</td>\n",
       "</tr>\n",
       "<tr>\n",
       "  <th>Prob(Omnibus):</th> <td> 0.003</td> <th>  Jarque-Bera (JB):  </th> <td>  24.865</td>\n",
       "</tr>\n",
       "<tr>\n",
       "  <th>Skew:</th>          <td>-0.065</td> <th>  Prob(JB):          </th> <td>3.99e-06</td>\n",
       "</tr>\n",
       "<tr>\n",
       "  <th>Kurtosis:</th>      <td> 4.412</td> <th>  Cond. No.          </th> <td>    10.4</td>\n",
       "</tr>\n",
       "</table><br/><br/>Warnings:<br/>[1] Standard Errors assume that the covariance matrix of the errors is correctly specified."
      ],
      "text/plain": [
       "<class 'statsmodels.iolib.summary.Summary'>\n",
       "\"\"\"\n",
       "                            OLS Regression Results                            \n",
       "==============================================================================\n",
       "Dep. Variable:                      y   R-squared:                       0.031\n",
       "Model:                            OLS   Adj. R-squared:                  0.028\n",
       "Method:                 Least Squares   F-statistic:                     9.544\n",
       "Date:                Mon, 10 Feb 2020   Prob (F-statistic):            0.00220\n",
       "Time:                        23:26:13   Log-Likelihood:                 470.56\n",
       "No. Observations:                 297   AIC:                            -937.1\n",
       "Df Residuals:                     295   BIC:                            -929.7\n",
       "Df Model:                           1                                         \n",
       "Covariance Type:            nonrobust                                         \n",
       "==============================================================================\n",
       "                 coef    std err          t      P>|t|      [0.025      0.975]\n",
       "------------------------------------------------------------------------------\n",
       "const         -0.0026      0.003     -0.896      0.371      -0.008       0.003\n",
       "x1            -0.0927      0.030     -3.089      0.002      -0.152      -0.034\n",
       "==============================================================================\n",
       "Omnibus:                       11.735   Durbin-Watson:                   1.930\n",
       "Prob(Omnibus):                  0.003   Jarque-Bera (JB):               24.865\n",
       "Skew:                          -0.065   Prob(JB):                     3.99e-06\n",
       "Kurtosis:                       4.412   Cond. No.                         10.4\n",
       "==============================================================================\n",
       "\n",
       "Warnings:\n",
       "[1] Standard Errors assume that the covariance matrix of the errors is correctly specified.\n",
       "\"\"\""
      ]
     },
     "execution_count": 147,
     "metadata": {},
     "output_type": "execute_result"
    }
   ],
   "source": [
    "diffres.summary()"
   ]
  },
  {
   "cell_type": "markdown",
   "metadata": {},
   "source": [
    "# Test on the alpha"
   ]
  },
  {
   "cell_type": "code",
   "execution_count": 148,
   "metadata": {},
   "outputs": [
    {
     "name": "stdout",
     "output_type": "stream",
     "text": [
      "The difference between part1 alpha and part2 alpha:  -0.002618136158240655\n"
     ]
    }
   ],
   "source": [
    "print('The difference between part1 alpha and part2 alpha: ', OLS_m[-1].params[0] - OLS_m[0].params[0])"
   ]
  },
  {
   "cell_type": "code",
   "execution_count": 149,
   "metadata": {},
   "outputs": [
    {
     "name": "stdout",
     "output_type": "stream",
     "text": [
      "The alpha of the difference return regression: -0.002618136158240655\n"
     ]
    }
   ],
   "source": [
    "print('The alpha of the difference return regression:',diffres.params[0] )"
   ]
  },
  {
   "cell_type": "markdown",
   "metadata": {},
   "source": [
    "# Weighted Mean Regression Summary"
   ]
  },
  {
   "cell_type": "code",
   "execution_count": 150,
   "metadata": {},
   "outputs": [
    {
     "name": "stdout",
     "output_type": "stream",
     "text": [
      "Part:  0\n",
      "                            OLS Regression Results                            \n",
      "==============================================================================\n",
      "Dep. Variable:                      y   R-squared:                       0.705\n",
      "Model:                            OLS   Adj. R-squared:                  0.704\n",
      "Method:                 Least Squares   F-statistic:                     704.6\n",
      "Date:                Mon, 10 Feb 2020   Prob (F-statistic):           3.69e-80\n",
      "Time:                        23:26:16   Log-Likelihood:                 956.63\n",
      "No. Observations:                 297   AIC:                            -1909.\n",
      "Df Residuals:                     295   BIC:                            -1902.\n",
      "Df Model:                           1                                         \n",
      "Covariance Type:            nonrobust                                         \n",
      "==============================================================================\n",
      "                 coef    std err          t      P>|t|      [0.025      0.975]\n",
      "------------------------------------------------------------------------------\n",
      "const         -0.0015      0.001     -2.732      0.007      -0.003      -0.000\n",
      "x1             0.1785      0.007     26.544      0.000       0.165       0.192\n",
      "==============================================================================\n",
      "Omnibus:                      123.021   Durbin-Watson:                   1.657\n",
      "Prob(Omnibus):                  0.000   Jarque-Bera (JB):             1101.505\n",
      "Skew:                           1.433   Prob(JB):                    6.48e-240\n",
      "Kurtosis:                      11.988   Cond. No.                         12.0\n",
      "==============================================================================\n",
      "\n",
      "Warnings:\n",
      "[1] Standard Errors assume that the covariance matrix of the errors is correctly specified.\n",
      "-------------------------------------------------------------------\n",
      "\n",
      "Part:  1\n",
      "                            OLS Regression Results                            \n",
      "==============================================================================\n",
      "Dep. Variable:                      y   R-squared:                       0.844\n",
      "Model:                            OLS   Adj. R-squared:                  0.843\n",
      "Method:                 Least Squares   F-statistic:                     1594.\n",
      "Date:                Mon, 10 Feb 2020   Prob (F-statistic):          5.62e-121\n",
      "Time:                        23:26:16   Log-Likelihood:                 1096.7\n",
      "No. Observations:                 297   AIC:                            -2189.\n",
      "Df Residuals:                     295   BIC:                            -2182.\n",
      "Df Model:                           1                                         \n",
      "Covariance Type:            nonrobust                                         \n",
      "==============================================================================\n",
      "                 coef    std err          t      P>|t|      [0.025      0.975]\n",
      "------------------------------------------------------------------------------\n",
      "const         -0.0015      0.000     -4.354      0.000      -0.002      -0.001\n",
      "x1             0.1675      0.004     39.928      0.000       0.159       0.176\n",
      "==============================================================================\n",
      "Omnibus:                      116.010   Durbin-Watson:                   1.565\n",
      "Prob(Omnibus):                  0.000   Jarque-Bera (JB):             1583.786\n",
      "Skew:                           1.182   Prob(JB):                         0.00\n",
      "Kurtosis:                      14.063   Cond. No.                         12.0\n",
      "==============================================================================\n",
      "\n",
      "Warnings:\n",
      "[1] Standard Errors assume that the covariance matrix of the errors is correctly specified.\n",
      "-------------------------------------------------------------------\n",
      "\n",
      "Part:  2\n",
      "                            OLS Regression Results                            \n",
      "==============================================================================\n",
      "Dep. Variable:                      y   R-squared:                       0.908\n",
      "Model:                            OLS   Adj. R-squared:                  0.907\n",
      "Method:                 Least Squares   F-statistic:                     2897.\n",
      "Date:                Mon, 10 Feb 2020   Prob (F-statistic):          1.38e-154\n",
      "Time:                        23:26:16   Log-Likelihood:                 1181.1\n",
      "No. Observations:                 297   AIC:                            -2358.\n",
      "Df Residuals:                     295   BIC:                            -2351.\n",
      "Df Model:                           1                                         \n",
      "Covariance Type:            nonrobust                                         \n",
      "==============================================================================\n",
      "                 coef    std err          t      P>|t|      [0.025      0.975]\n",
      "------------------------------------------------------------------------------\n",
      "const         -0.0017      0.000     -6.395      0.000      -0.002      -0.001\n",
      "x1             0.1700      0.003     53.823      0.000       0.164       0.176\n",
      "==============================================================================\n",
      "Omnibus:                       33.377   Durbin-Watson:                   1.618\n",
      "Prob(Omnibus):                  0.000   Jarque-Bera (JB):              174.945\n",
      "Skew:                           0.170   Prob(JB):                     1.03e-38\n",
      "Kurtosis:                       6.745   Cond. No.                         12.0\n",
      "==============================================================================\n",
      "\n",
      "Warnings:\n",
      "[1] Standard Errors assume that the covariance matrix of the errors is correctly specified.\n",
      "-------------------------------------------------------------------\n",
      "\n",
      "Part:  3\n",
      "                            OLS Regression Results                            \n",
      "==============================================================================\n",
      "Dep. Variable:                      y   R-squared:                       0.900\n",
      "Model:                            OLS   Adj. R-squared:                  0.899\n",
      "Method:                 Least Squares   F-statistic:                     2647.\n",
      "Date:                Mon, 10 Feb 2020   Prob (F-statistic):          2.36e-149\n",
      "Time:                        23:26:16   Log-Likelihood:                 1107.1\n",
      "No. Observations:                 297   AIC:                            -2210.\n",
      "Df Residuals:                     295   BIC:                            -2203.\n",
      "Df Model:                           1                                         \n",
      "Covariance Type:            nonrobust                                         \n",
      "==============================================================================\n",
      "                 coef    std err          t      P>|t|      [0.025      0.975]\n",
      "------------------------------------------------------------------------------\n",
      "const         -0.0015      0.000     -4.271      0.000      -0.002      -0.001\n",
      "x1             0.2084      0.004     51.444      0.000       0.200       0.216\n",
      "==============================================================================\n",
      "Omnibus:                       38.004   Durbin-Watson:                   1.472\n",
      "Prob(Omnibus):                  0.000   Jarque-Bera (JB):              162.618\n",
      "Skew:                           0.398   Prob(JB):                     4.87e-36\n",
      "Kurtosis:                       6.537   Cond. No.                         12.0\n",
      "==============================================================================\n",
      "\n",
      "Warnings:\n",
      "[1] Standard Errors assume that the covariance matrix of the errors is correctly specified.\n",
      "-------------------------------------------------------------------\n",
      "\n",
      "Part:  4\n",
      "                            OLS Regression Results                            \n",
      "==============================================================================\n",
      "Dep. Variable:                      y   R-squared:                       0.799\n",
      "Model:                            OLS   Adj. R-squared:                  0.798\n",
      "Method:                 Least Squares   F-statistic:                     1170.\n",
      "Date:                Mon, 10 Feb 2020   Prob (F-statistic):          1.16e-104\n",
      "Time:                        23:26:16   Log-Likelihood:                 913.50\n",
      "No. Observations:                 297   AIC:                            -1823.\n",
      "Df Residuals:                     295   BIC:                            -1816.\n",
      "Df Model:                           1                                         \n",
      "Covariance Type:            nonrobust                                         \n",
      "==============================================================================\n",
      "                 coef    std err          t      P>|t|      [0.025      0.975]\n",
      "------------------------------------------------------------------------------\n",
      "const         -0.0013      0.001     -1.939      0.053      -0.003    1.89e-05\n",
      "x1             0.2659      0.008     34.202      0.000       0.251       0.281\n",
      "==============================================================================\n",
      "Omnibus:                       16.069   Durbin-Watson:                   1.935\n",
      "Prob(Omnibus):                  0.000   Jarque-Bera (JB):               43.445\n",
      "Skew:                          -0.033   Prob(JB):                     3.68e-10\n",
      "Kurtosis:                       4.873   Cond. No.                         12.0\n",
      "==============================================================================\n",
      "\n",
      "Warnings:\n",
      "[1] Standard Errors assume that the covariance matrix of the errors is correctly specified.\n",
      "-------------------------------------------------------------------\n",
      "\n"
     ]
    }
   ],
   "source": [
    "OLS_wm = []\n",
    "for i in range(len(r_minus_rf)):\n",
    "    vmresults = sm.OLS(weightr_minus_rf[i], sm.add_constant(Weightrm_minus_rf)).fit()\n",
    "    OLS_wm.append(vmresults)\n",
    "    print('Part: ',str(i))\n",
    "    print(vmresults.summary())\n",
    "    print(\"-------------------------------------------------------------------\\n\")"
   ]
  },
  {
   "cell_type": "markdown",
   "metadata": {},
   "source": [
    "# The Regression on Difference between Part 1 and Part 5"
   ]
  },
  {
   "cell_type": "code",
   "execution_count": 151,
   "metadata": {},
   "outputs": [
    {
     "data": {
      "text/html": [
       "<table class=\"simpletable\">\n",
       "<caption>OLS Regression Results</caption>\n",
       "<tr>\n",
       "  <th>Dep. Variable:</th>            <td>y</td>        <th>  R-squared:         </th> <td>   0.127</td>\n",
       "</tr>\n",
       "<tr>\n",
       "  <th>Model:</th>                   <td>OLS</td>       <th>  Adj. R-squared:    </th> <td>   0.124</td>\n",
       "</tr>\n",
       "<tr>\n",
       "  <th>Method:</th>             <td>Least Squares</td>  <th>  F-statistic:       </th> <td>   42.80</td>\n",
       "</tr>\n",
       "<tr>\n",
       "  <th>Date:</th>             <td>Mon, 10 Feb 2020</td> <th>  Prob (F-statistic):</th> <td>2.68e-10</td>\n",
       "</tr>\n",
       "<tr>\n",
       "  <th>Time:</th>                 <td>23:26:17</td>     <th>  Log-Likelihood:    </th> <td>  752.60</td>\n",
       "</tr>\n",
       "<tr>\n",
       "  <th>No. Observations:</th>      <td>   297</td>      <th>  AIC:               </th> <td>  -1501.</td>\n",
       "</tr>\n",
       "<tr>\n",
       "  <th>Df Residuals:</th>          <td>   295</td>      <th>  BIC:               </th> <td>  -1494.</td>\n",
       "</tr>\n",
       "<tr>\n",
       "  <th>Df Model:</th>              <td>     1</td>      <th>                     </th>     <td> </td>   \n",
       "</tr>\n",
       "<tr>\n",
       "  <th>Covariance Type:</th>      <td>nonrobust</td>    <th>                     </th>     <td> </td>   \n",
       "</tr>\n",
       "</table>\n",
       "<table class=\"simpletable\">\n",
       "<tr>\n",
       "    <td></td>       <th>coef</th>     <th>std err</th>      <th>t</th>      <th>P>|t|</th>  <th>[0.025</th>    <th>0.975]</th>  \n",
       "</tr>\n",
       "<tr>\n",
       "  <th>const</th> <td>    0.0003</td> <td>    0.001</td> <td>    0.247</td> <td> 0.805</td> <td>   -0.002</td> <td>    0.002</td>\n",
       "</tr>\n",
       "<tr>\n",
       "  <th>x1</th>    <td>    0.0874</td> <td>    0.013</td> <td>    6.542</td> <td> 0.000</td> <td>    0.061</td> <td>    0.114</td>\n",
       "</tr>\n",
       "</table>\n",
       "<table class=\"simpletable\">\n",
       "<tr>\n",
       "  <th>Omnibus:</th>       <td>48.427</td> <th>  Durbin-Watson:     </th> <td>   1.834</td>\n",
       "</tr>\n",
       "<tr>\n",
       "  <th>Prob(Omnibus):</th> <td> 0.000</td> <th>  Jarque-Bera (JB):  </th> <td> 167.253</td>\n",
       "</tr>\n",
       "<tr>\n",
       "  <th>Skew:</th>          <td>-0.656</td> <th>  Prob(JB):          </th> <td>4.80e-37</td>\n",
       "</tr>\n",
       "<tr>\n",
       "  <th>Kurtosis:</th>      <td> 6.435</td> <th>  Cond. No.          </th> <td>    12.0</td>\n",
       "</tr>\n",
       "</table><br/><br/>Warnings:<br/>[1] Standard Errors assume that the covariance matrix of the errors is correctly specified."
      ],
      "text/plain": [
       "<class 'statsmodels.iolib.summary.Summary'>\n",
       "\"\"\"\n",
       "                            OLS Regression Results                            \n",
       "==============================================================================\n",
       "Dep. Variable:                      y   R-squared:                       0.127\n",
       "Model:                            OLS   Adj. R-squared:                  0.124\n",
       "Method:                 Least Squares   F-statistic:                     42.80\n",
       "Date:                Mon, 10 Feb 2020   Prob (F-statistic):           2.68e-10\n",
       "Time:                        23:26:17   Log-Likelihood:                 752.60\n",
       "No. Observations:                 297   AIC:                            -1501.\n",
       "Df Residuals:                     295   BIC:                            -1494.\n",
       "Df Model:                           1                                         \n",
       "Covariance Type:            nonrobust                                         \n",
       "==============================================================================\n",
       "                 coef    std err          t      P>|t|      [0.025      0.975]\n",
       "------------------------------------------------------------------------------\n",
       "const          0.0003      0.001      0.247      0.805      -0.002       0.002\n",
       "x1             0.0874      0.013      6.542      0.000       0.061       0.114\n",
       "==============================================================================\n",
       "Omnibus:                       48.427   Durbin-Watson:                   1.834\n",
       "Prob(Omnibus):                  0.000   Jarque-Bera (JB):              167.253\n",
       "Skew:                          -0.656   Prob(JB):                     4.80e-37\n",
       "Kurtosis:                       6.435   Cond. No.                         12.0\n",
       "==============================================================================\n",
       "\n",
       "Warnings:\n",
       "[1] Standard Errors assume that the covariance matrix of the errors is correctly specified.\n",
       "\"\"\""
      ]
     },
     "execution_count": 151,
     "metadata": {},
     "output_type": "execute_result"
    }
   ],
   "source": [
    "diffres2 = sm.OLS(result[5], sm.add_constant(Weightrm_minus_rf)).fit()\n",
    "diffres2.summary()"
   ]
  },
  {
   "cell_type": "markdown",
   "metadata": {},
   "source": [
    "# Test on the alpha "
   ]
  },
  {
   "cell_type": "code",
   "execution_count": 152,
   "metadata": {},
   "outputs": [
    {
     "name": "stdout",
     "output_type": "stream",
     "text": [
      "The difference between part1 alpha and part2 alpha:  0.00027746192227609914\n"
     ]
    }
   ],
   "source": [
    "print('The difference between part1 alpha and part2 alpha: ', OLS_wm[-1].params[0] - OLS_wm[0].params[0])"
   ]
  },
  {
   "cell_type": "code",
   "execution_count": 153,
   "metadata": {},
   "outputs": [
    {
     "name": "stdout",
     "output_type": "stream",
     "text": [
      "The alpha of the difference return regression: 0.0002774619222760982\n"
     ]
    }
   ],
   "source": [
    "print('The alpha of the difference return regression:',diffres2.params[0] )"
   ]
  },
  {
   "cell_type": "code",
   "execution_count": null,
   "metadata": {},
   "outputs": [],
   "source": []
  }
 ],
 "metadata": {
  "kernelspec": {
   "display_name": "Python 3.6.8 64-bit ('base': conda)",
   "language": "python",
   "name": "python36864bitbaseconda3f1f5eb75d8f4d97b08bb34357571233"
  },
  "language_info": {
   "codemirror_mode": {
    "name": "ipython",
    "version": 3
   },
   "file_extension": ".py",
   "mimetype": "text/x-python",
   "name": "python",
   "nbconvert_exporter": "python",
   "pygments_lexer": "ipython3",
   "version": "3.6.8"
  }
 },
 "nbformat": 4,
 "nbformat_minor": 2
}
