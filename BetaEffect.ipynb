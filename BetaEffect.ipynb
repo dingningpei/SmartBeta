{
 "cells": [
  {
   "cell_type": "code",
   "execution_count": 67,
   "metadata": {},
   "outputs": [],
   "source": [
    "import numpy as np\n",
    "import pandas as pd\n",
    "import numpy as np\n",
    "import scipy.io\n",
    "import statsmodels.api as sm"
   ]
  },
  {
   "cell_type": "code",
   "execution_count": 68,
   "metadata": {},
   "outputs": [],
   "source": [
    "beta = np.loadtxt(\"betas1.csv\", delimiter=\",\")"
   ]
  },
  {
   "cell_type": "code",
   "execution_count": 69,
   "metadata": {},
   "outputs": [
    {
     "name": "stderr",
     "output_type": "stream",
     "text": [
      "/Users/ningpeiding/anaconda3/lib/python3.6/site-packages/scipy/io/matlab/mio.py:142: MatReadWarning: Duplicate variable name \"None\" in stream - replacing previous with new\n",
      "Consider mio5.varmats_from_mat to split file into single variable files\n",
      "  matfile_dict = MR.get_variables(variable_names)\n"
     ]
    }
   ],
   "source": [
    "mat = scipy.io.loadmat('china.mat')\n",
    "mret = np.array(mat['china_monthly_ri'])\n",
    "market = np.array(mat['china_monthly_mv'])\n",
    "rankrt = np.stack([(mret[:,i] - mret[:,i-1])/mret[:,i-1] for i in range(1,mret.shape[1])], axis = -1)\n",
    "mk = np.stack([market[:,i] for i in range(1,mret.shape[1])], axis = -1)\n",
    "momentum = np.stack([np.prod(rankrt[:,i-11:i] + 1,axis = 1) -1 for i in range(11,rankrt.shape[1])], axis = -1)\n",
    "momentum= np.concatenate((np.zeros([momentum.shape[0],11]), momentum), axis=1)\n",
    "rf = pd.read_csv('F-F_Research_Data_Factors.CSV')\n",
    "rf = rf[rf['Time'] >= mat['mdates'][0][0]]['RF']"
   ]
  },
  {
   "cell_type": "code",
   "execution_count": 70,
   "metadata": {},
   "outputs": [],
   "source": [
    "dwse = np.array(mat['china_dwse'])\n",
    "dwse = np.stack([dwse[:,i] for i in range(1, dwse.shape[1])], axis = -1)"
   ]
  },
  {
   "cell_type": "code",
   "execution_count": 71,
   "metadata": {},
   "outputs": [],
   "source": [
    "dweb = np.array(mat['china_dweb'])\n",
    "dweb = np.stack([dweb[:,i] for i in range(1, dweb.shape[1])], axis = -1)"
   ]
  },
  {
   "cell_type": "code",
   "execution_count": 109,
   "metadata": {},
   "outputs": [],
   "source": [
    "nc = rankrt.shape[1]\n",
    "nr = rankrt.shape[0]\n",
    "\n",
    "from sklearn.linear_model import LinearRegression\n",
    "# bm = dweb/mk\n",
    "result = []\n",
    "for i in range(98, nc):\n",
    "        index_num = (~np.isnan(rankrt[:,i])) & (~np.isnan(dwse[:,i - 7]))& (~np.isnan(mk[:,i - 1])) &(~np.isnan(beta[:,i]))&(~np.isnan(dweb[:,i - 7]))\n",
    "        bm = dwse[index_num,i - 7]/mk[index_num,i - 1]\n",
    "        if index_num.sum() <= 0:\n",
    "            continue\n",
    "        reg = LinearRegression().fit(np.stack((beta[index_num,i],bm, dweb[index_num,i - 7]), axis=-1), rankrt[index_num,i])\n",
    "        score = reg.score(np.stack((beta[index_num,i],bm, dweb[index_num,i - 7]), axis=-1), rankrt[index_num,i])\n",
    "        reg1 = LinearRegression().fit(np.stack((beta[index_num,i], dwse[index_num,i - 7]), axis=-1), rankrt[index_num,i])\n",
    "        score1 = reg1.score(np.stack((beta[index_num,i], dwse[index_num,i - 7]), axis=-1), rankrt[index_num,i])\n",
    "        reg2 = LinearRegression().fit(beta[index_num,i].reshape(-1, 1), rankrt[index_num,i])\n",
    "        score2 = reg2.score(beta[index_num,i].reshape(-1, 1), rankrt[index_num,i])\n",
    "        result.append([[reg.coef_,score],[reg1.coef_, score1], [reg2.coef_, score2]])\n",
    "    \n",
    "    \n",
    "    "
   ]
  },
  {
   "cell_type": "code",
   "execution_count": 110,
   "metadata": {},
   "outputs": [],
   "source": [
    "h = np.array(result)"
   ]
  },
  {
   "cell_type": "markdown",
   "metadata": {},
   "source": [
    "# Three Factors: Beta, Book to Market and EBITDA"
   ]
  },
  {
   "cell_type": "code",
   "execution_count": null,
   "metadata": {},
   "outputs": [],
   "source": []
  },
  {
   "cell_type": "code",
   "execution_count": 111,
   "metadata": {},
   "outputs": [
    {
     "data": {
      "text/plain": [
       "array([ 1.43329479e-03,  8.78664790e-06, -1.03121102e-08])"
      ]
     },
     "execution_count": 111,
     "metadata": {},
     "output_type": "execute_result"
    }
   ],
   "source": [
    "h[:,0,0].mean(axis = 0)"
   ]
  },
  {
   "cell_type": "code",
   "execution_count": 112,
   "metadata": {},
   "outputs": [
    {
     "data": {
      "text/plain": [
       "0.030882596967030135"
      ]
     },
     "execution_count": 112,
     "metadata": {},
     "output_type": "execute_result"
    }
   ],
   "source": [
    "h[:,0,1].mean()"
   ]
  },
  {
   "cell_type": "markdown",
   "metadata": {},
   "source": [
    "# Two Factors: Beta and EBITDA"
   ]
  },
  {
   "cell_type": "code",
   "execution_count": 113,
   "metadata": {},
   "outputs": [
    {
     "data": {
      "text/plain": [
       "array([ 1.83883115e-03, -1.18096210e-09])"
      ]
     },
     "execution_count": 113,
     "metadata": {},
     "output_type": "execute_result"
    }
   ],
   "source": [
    "h[:,1,0].mean(axis = 0)"
   ]
  },
  {
   "cell_type": "code",
   "execution_count": 114,
   "metadata": {},
   "outputs": [
    {
     "data": {
      "text/plain": [
       "0.01861724958834111"
      ]
     },
     "execution_count": 114,
     "metadata": {},
     "output_type": "execute_result"
    }
   ],
   "source": [
    "h[:,1,1].mean()"
   ]
  },
  {
   "cell_type": "markdown",
   "metadata": {},
   "source": [
    "# One Factor: Beta"
   ]
  },
  {
   "cell_type": "code",
   "execution_count": 115,
   "metadata": {},
   "outputs": [
    {
     "data": {
      "text/plain": [
       "array([0.00116626])"
      ]
     },
     "execution_count": 115,
     "metadata": {},
     "output_type": "execute_result"
    }
   ],
   "source": [
    "h[:,2,0].mean(axis = 0)"
   ]
  },
  {
   "cell_type": "code",
   "execution_count": 116,
   "metadata": {},
   "outputs": [
    {
     "data": {
      "text/plain": [
       "0.009690956161739157"
      ]
     },
     "execution_count": 116,
     "metadata": {},
     "output_type": "execute_result"
    }
   ],
   "source": [
    "h[:,2,1].mean(axis = 0)"
   ]
  },
  {
   "cell_type": "code",
   "execution_count": null,
   "metadata": {},
   "outputs": [],
   "source": []
  },
  {
   "cell_type": "code",
   "execution_count": null,
   "metadata": {},
   "outputs": [],
   "source": []
  }
 ],
 "metadata": {
  "kernelspec": {
   "display_name": "Python 3.6.8 64-bit ('base': conda)",
   "language": "python",
   "name": "python36864bitbaseconda3f1f5eb75d8f4d97b08bb34357571233"
  },
  "language_info": {
   "codemirror_mode": {
    "name": "ipython",
    "version": 3
   },
   "file_extension": ".py",
   "mimetype": "text/x-python",
   "name": "python",
   "nbconvert_exporter": "python",
   "pygments_lexer": "ipython3",
   "version": "3.6.8"
  }
 },
 "nbformat": 4,
 "nbformat_minor": 2
}
